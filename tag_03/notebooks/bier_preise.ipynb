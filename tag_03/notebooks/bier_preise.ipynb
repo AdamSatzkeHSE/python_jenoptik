{
 "cells": [
  {
   "cell_type": "markdown",
   "id": "73660764-d7d8-49d3-b11a-e8684d4907df",
   "metadata": {},
   "source": [
    "## Jupyter Notebook Tutorial"
   ]
  },
  {
   "cell_type": "markdown",
   "id": "815a9196-66f2-42f8-9924-b0a9e226e7d0",
   "metadata": {},
   "source": [
    "- Daten laden\n",
    "- Nach Bierpreisen filtern\n",
    "- Neues Dataframe als .csv speichern"
   ]
  },
  {
   "cell_type": "code",
   "execution_count": 11,
   "id": "b89343de-ac8a-47ea-bbaa-04fc24211573",
   "metadata": {},
   "outputs": [],
   "source": [
    "import pandas as pd\n",
    "import matplotlib.pyplot as plt"
   ]
  },
  {
   "cell_type": "code",
   "execution_count": 2,
   "id": "90049981-1be8-4e2d-a915-091d21b3751b",
   "metadata": {},
   "outputs": [],
   "source": [
    "df = pd.read_csv(\"./data/oktoberfest.csv\")"
   ]
  },
  {
   "cell_type": "code",
   "execution_count": 3,
   "id": "0bd7e7e7-6650-443f-b426-1496d3ef552f",
   "metadata": {},
   "outputs": [
    {
     "data": {
      "text/html": [
       "<div>\n",
       "<style scoped>\n",
       "    .dataframe tbody tr th:only-of-type {\n",
       "        vertical-align: middle;\n",
       "    }\n",
       "\n",
       "    .dataframe tbody tr th {\n",
       "        vertical-align: top;\n",
       "    }\n",
       "\n",
       "    .dataframe thead th {\n",
       "        text-align: right;\n",
       "    }\n",
       "</style>\n",
       "<table border=\"1\" class=\"dataframe\">\n",
       "  <thead>\n",
       "    <tr style=\"text-align: right;\">\n",
       "      <th></th>\n",
       "      <th>year</th>\n",
       "      <th>duration</th>\n",
       "      <th>guests_total</th>\n",
       "      <th>guests_daily</th>\n",
       "      <th>beer_price</th>\n",
       "      <th>beer_consumption</th>\n",
       "      <th>roast_chicken_price</th>\n",
       "      <th>roast_chicken_consumption</th>\n",
       "    </tr>\n",
       "  </thead>\n",
       "  <tbody>\n",
       "    <tr>\n",
       "      <th>0</th>\n",
       "      <td>1985</td>\n",
       "      <td>16</td>\n",
       "      <td>7.1</td>\n",
       "      <td>444</td>\n",
       "      <td>3.20</td>\n",
       "      <td>54541</td>\n",
       "      <td>4.77</td>\n",
       "      <td>629520</td>\n",
       "    </tr>\n",
       "    <tr>\n",
       "      <th>1</th>\n",
       "      <td>1986</td>\n",
       "      <td>16</td>\n",
       "      <td>6.7</td>\n",
       "      <td>419</td>\n",
       "      <td>3.30</td>\n",
       "      <td>53807</td>\n",
       "      <td>3.92</td>\n",
       "      <td>698137</td>\n",
       "    </tr>\n",
       "    <tr>\n",
       "      <th>2</th>\n",
       "      <td>1987</td>\n",
       "      <td>16</td>\n",
       "      <td>6.5</td>\n",
       "      <td>406</td>\n",
       "      <td>3.37</td>\n",
       "      <td>51842</td>\n",
       "      <td>3.98</td>\n",
       "      <td>732859</td>\n",
       "    </tr>\n",
       "    <tr>\n",
       "      <th>3</th>\n",
       "      <td>1988</td>\n",
       "      <td>16</td>\n",
       "      <td>5.7</td>\n",
       "      <td>356</td>\n",
       "      <td>3.45</td>\n",
       "      <td>50951</td>\n",
       "      <td>4.19</td>\n",
       "      <td>720139</td>\n",
       "    </tr>\n",
       "    <tr>\n",
       "      <th>4</th>\n",
       "      <td>1989</td>\n",
       "      <td>16</td>\n",
       "      <td>6.2</td>\n",
       "      <td>388</td>\n",
       "      <td>3.60</td>\n",
       "      <td>51241</td>\n",
       "      <td>4.22</td>\n",
       "      <td>775674</td>\n",
       "    </tr>\n",
       "  </tbody>\n",
       "</table>\n",
       "</div>"
      ],
      "text/plain": [
       "   year  duration  guests_total  guests_daily  beer_price  beer_consumption  \\\n",
       "0  1985        16           7.1           444        3.20             54541   \n",
       "1  1986        16           6.7           419        3.30             53807   \n",
       "2  1987        16           6.5           406        3.37             51842   \n",
       "3  1988        16           5.7           356        3.45             50951   \n",
       "4  1989        16           6.2           388        3.60             51241   \n",
       "\n",
       "   roast_chicken_price  roast_chicken_consumption  \n",
       "0                 4.77                     629520  \n",
       "1                 3.92                     698137  \n",
       "2                 3.98                     732859  \n",
       "3                 4.19                     720139  \n",
       "4                 4.22                     775674  "
      ]
     },
     "execution_count": 3,
     "metadata": {},
     "output_type": "execute_result"
    }
   ],
   "source": [
    "df.head()"
   ]
  },
  {
   "cell_type": "code",
   "execution_count": 4,
   "id": "f7708980-b57f-4777-9dd1-5f2ad319e0d3",
   "metadata": {},
   "outputs": [
    {
     "name": "stdout",
     "output_type": "stream",
     "text": [
      "<class 'pandas.core.frame.DataFrame'>\n",
      "RangeIndex: 37 entries, 0 to 36\n",
      "Data columns (total 8 columns):\n",
      " #   Column                     Non-Null Count  Dtype  \n",
      "---  ------                     --------------  -----  \n",
      " 0   year                       37 non-null     int64  \n",
      " 1   duration                   37 non-null     int64  \n",
      " 2   guests_total               37 non-null     float64\n",
      " 3   guests_daily               37 non-null     int64  \n",
      " 4   beer_price                 37 non-null     float64\n",
      " 5   beer_consumption           37 non-null     int64  \n",
      " 6   roast_chicken_price        37 non-null     float64\n",
      " 7   roast_chicken_consumption  37 non-null     int64  \n",
      "dtypes: float64(3), int64(5)\n",
      "memory usage: 2.4 KB\n"
     ]
    }
   ],
   "source": [
    "df.info()"
   ]
  },
  {
   "cell_type": "code",
   "execution_count": 5,
   "id": "b6e6993b-086f-46ee-b00b-84d45cf427ac",
   "metadata": {},
   "outputs": [],
   "source": [
    "df = df[[\"year\", \"beer_price\"]]"
   ]
  },
  {
   "cell_type": "code",
   "execution_count": 6,
   "id": "e8f78103-281e-4a14-aa72-35f07c528aa8",
   "metadata": {},
   "outputs": [
    {
     "data": {
      "text/html": [
       "<div>\n",
       "<style scoped>\n",
       "    .dataframe tbody tr th:only-of-type {\n",
       "        vertical-align: middle;\n",
       "    }\n",
       "\n",
       "    .dataframe tbody tr th {\n",
       "        vertical-align: top;\n",
       "    }\n",
       "\n",
       "    .dataframe thead th {\n",
       "        text-align: right;\n",
       "    }\n",
       "</style>\n",
       "<table border=\"1\" class=\"dataframe\">\n",
       "  <thead>\n",
       "    <tr style=\"text-align: right;\">\n",
       "      <th></th>\n",
       "      <th>year</th>\n",
       "      <th>beer_price</th>\n",
       "    </tr>\n",
       "  </thead>\n",
       "  <tbody>\n",
       "    <tr>\n",
       "      <th>0</th>\n",
       "      <td>1985</td>\n",
       "      <td>3.20</td>\n",
       "    </tr>\n",
       "    <tr>\n",
       "      <th>1</th>\n",
       "      <td>1986</td>\n",
       "      <td>3.30</td>\n",
       "    </tr>\n",
       "    <tr>\n",
       "      <th>2</th>\n",
       "      <td>1987</td>\n",
       "      <td>3.37</td>\n",
       "    </tr>\n",
       "    <tr>\n",
       "      <th>3</th>\n",
       "      <td>1988</td>\n",
       "      <td>3.45</td>\n",
       "    </tr>\n",
       "    <tr>\n",
       "      <th>4</th>\n",
       "      <td>1989</td>\n",
       "      <td>3.60</td>\n",
       "    </tr>\n",
       "    <tr>\n",
       "      <th>5</th>\n",
       "      <td>1990</td>\n",
       "      <td>3.77</td>\n",
       "    </tr>\n",
       "    <tr>\n",
       "      <th>6</th>\n",
       "      <td>1991</td>\n",
       "      <td>4.21</td>\n",
       "    </tr>\n",
       "    <tr>\n",
       "      <th>7</th>\n",
       "      <td>1992</td>\n",
       "      <td>4.42</td>\n",
       "    </tr>\n",
       "    <tr>\n",
       "      <th>8</th>\n",
       "      <td>1993</td>\n",
       "      <td>4.71</td>\n",
       "    </tr>\n",
       "    <tr>\n",
       "      <th>9</th>\n",
       "      <td>1994</td>\n",
       "      <td>4.89</td>\n",
       "    </tr>\n",
       "    <tr>\n",
       "      <th>10</th>\n",
       "      <td>1995</td>\n",
       "      <td>5.15</td>\n",
       "    </tr>\n",
       "    <tr>\n",
       "      <th>11</th>\n",
       "      <td>1996</td>\n",
       "      <td>5.24</td>\n",
       "    </tr>\n",
       "    <tr>\n",
       "      <th>12</th>\n",
       "      <td>1997</td>\n",
       "      <td>5.45</td>\n",
       "    </tr>\n",
       "    <tr>\n",
       "      <th>13</th>\n",
       "      <td>1998</td>\n",
       "      <td>5.60</td>\n",
       "    </tr>\n",
       "    <tr>\n",
       "      <th>14</th>\n",
       "      <td>1999</td>\n",
       "      <td>5.80</td>\n",
       "    </tr>\n",
       "    <tr>\n",
       "      <th>15</th>\n",
       "      <td>2000</td>\n",
       "      <td>6.35</td>\n",
       "    </tr>\n",
       "    <tr>\n",
       "      <th>16</th>\n",
       "      <td>2001</td>\n",
       "      <td>6.47</td>\n",
       "    </tr>\n",
       "    <tr>\n",
       "      <th>17</th>\n",
       "      <td>2002</td>\n",
       "      <td>6.75</td>\n",
       "    </tr>\n",
       "    <tr>\n",
       "      <th>18</th>\n",
       "      <td>2003</td>\n",
       "      <td>6.75</td>\n",
       "    </tr>\n",
       "    <tr>\n",
       "      <th>19</th>\n",
       "      <td>2004</td>\n",
       "      <td>7.02</td>\n",
       "    </tr>\n",
       "    <tr>\n",
       "      <th>20</th>\n",
       "      <td>2005</td>\n",
       "      <td>7.15</td>\n",
       "    </tr>\n",
       "    <tr>\n",
       "      <th>21</th>\n",
       "      <td>2006</td>\n",
       "      <td>7.42</td>\n",
       "    </tr>\n",
       "    <tr>\n",
       "      <th>22</th>\n",
       "      <td>2007</td>\n",
       "      <td>7.85</td>\n",
       "    </tr>\n",
       "    <tr>\n",
       "      <th>23</th>\n",
       "      <td>2008</td>\n",
       "      <td>8.25</td>\n",
       "    </tr>\n",
       "    <tr>\n",
       "      <th>24</th>\n",
       "      <td>2009</td>\n",
       "      <td>8.53</td>\n",
       "    </tr>\n",
       "    <tr>\n",
       "      <th>25</th>\n",
       "      <td>2010</td>\n",
       "      <td>8.79</td>\n",
       "    </tr>\n",
       "    <tr>\n",
       "      <th>26</th>\n",
       "      <td>2011</td>\n",
       "      <td>9.09</td>\n",
       "    </tr>\n",
       "    <tr>\n",
       "      <th>27</th>\n",
       "      <td>2012</td>\n",
       "      <td>9.41</td>\n",
       "    </tr>\n",
       "    <tr>\n",
       "      <th>28</th>\n",
       "      <td>2013</td>\n",
       "      <td>9.78</td>\n",
       "    </tr>\n",
       "    <tr>\n",
       "      <th>29</th>\n",
       "      <td>2014</td>\n",
       "      <td>9.98</td>\n",
       "    </tr>\n",
       "    <tr>\n",
       "      <th>30</th>\n",
       "      <td>2015</td>\n",
       "      <td>10.27</td>\n",
       "    </tr>\n",
       "    <tr>\n",
       "      <th>31</th>\n",
       "      <td>2016</td>\n",
       "      <td>10.57</td>\n",
       "    </tr>\n",
       "    <tr>\n",
       "      <th>32</th>\n",
       "      <td>2017</td>\n",
       "      <td>10.87</td>\n",
       "    </tr>\n",
       "    <tr>\n",
       "      <th>33</th>\n",
       "      <td>2018</td>\n",
       "      <td>11.30</td>\n",
       "    </tr>\n",
       "    <tr>\n",
       "      <th>34</th>\n",
       "      <td>2019</td>\n",
       "      <td>11.71</td>\n",
       "    </tr>\n",
       "    <tr>\n",
       "      <th>35</th>\n",
       "      <td>2022</td>\n",
       "      <td>13.45</td>\n",
       "    </tr>\n",
       "    <tr>\n",
       "      <th>36</th>\n",
       "      <td>2023</td>\n",
       "      <td>14.33</td>\n",
       "    </tr>\n",
       "  </tbody>\n",
       "</table>\n",
       "</div>"
      ],
      "text/plain": [
       "    year  beer_price\n",
       "0   1985        3.20\n",
       "1   1986        3.30\n",
       "2   1987        3.37\n",
       "3   1988        3.45\n",
       "4   1989        3.60\n",
       "5   1990        3.77\n",
       "6   1991        4.21\n",
       "7   1992        4.42\n",
       "8   1993        4.71\n",
       "9   1994        4.89\n",
       "10  1995        5.15\n",
       "11  1996        5.24\n",
       "12  1997        5.45\n",
       "13  1998        5.60\n",
       "14  1999        5.80\n",
       "15  2000        6.35\n",
       "16  2001        6.47\n",
       "17  2002        6.75\n",
       "18  2003        6.75\n",
       "19  2004        7.02\n",
       "20  2005        7.15\n",
       "21  2006        7.42\n",
       "22  2007        7.85\n",
       "23  2008        8.25\n",
       "24  2009        8.53\n",
       "25  2010        8.79\n",
       "26  2011        9.09\n",
       "27  2012        9.41\n",
       "28  2013        9.78\n",
       "29  2014        9.98\n",
       "30  2015       10.27\n",
       "31  2016       10.57\n",
       "32  2017       10.87\n",
       "33  2018       11.30\n",
       "34  2019       11.71\n",
       "35  2022       13.45\n",
       "36  2023       14.33"
      ]
     },
     "execution_count": 6,
     "metadata": {},
     "output_type": "execute_result"
    }
   ],
   "source": [
    "df"
   ]
  },
  {
   "cell_type": "markdown",
   "id": "b17898a6-10fa-490d-a9c0-38a84b5a6071",
   "metadata": {},
   "source": [
    "Daten wurden richtig geladen. Was tun wir jetzt?"
   ]
  },
  {
   "cell_type": "code",
   "execution_count": 7,
   "id": "e45c0ae2-5e73-42cf-a3c3-8ce1dee68e79",
   "metadata": {},
   "outputs": [],
   "source": [
    "mean = df[\"beer_price\"].mean()\n",
    "std_dev = df[\"beer_price\"].std()\n",
    "max_beer_price = df[\"beer_price\"].max()"
   ]
  },
  {
   "cell_type": "code",
   "execution_count": 8,
   "id": "da8b4e2a-dd4b-46c4-bb99-a392d7124c88",
   "metadata": {},
   "outputs": [],
   "source": [
    "stat_daten = [mean, std_dev, max_beer_price]"
   ]
  },
  {
   "cell_type": "code",
   "execution_count": 9,
   "id": "f824db65-1f72-4e94-941f-fc68bd15ae9a",
   "metadata": {},
   "outputs": [
    {
     "data": {
      "text/plain": [
       "[7.25, 2.9819456735494025, 14.33]"
      ]
     },
     "execution_count": 9,
     "metadata": {},
     "output_type": "execute_result"
    }
   ],
   "source": [
    "stat_daten"
   ]
  },
  {
   "cell_type": "markdown",
   "id": "a9caa5b9-9dca-45ce-9492-822ce8209277",
   "metadata": {},
   "source": [
    "Die Ergebnisse der Statistik mag ich nicht. Wie können wir diese anpassen?"
   ]
  },
  {
   "cell_type": "code",
   "execution_count": 14,
   "id": "76cae6db-54d4-49d1-80cc-abf9b87fe18c",
   "metadata": {},
   "outputs": [
    {
     "data": {
      "text/plain": [
       "Text(0, 0.5, 'Anzahl')"
      ]
     },
     "execution_count": 14,
     "metadata": {},
     "output_type": "execute_result"
    },
    {
     "data": {
      "image/png": "[encoded data removed]",
      "text/plain": [
       "<Figure size 640x480 with 1 Axes>"
      ]
     },
     "metadata": {},
     "output_type": "display_data"
    }
   ],
   "source": [
    "df[\"beer_price\"].hist()\n",
    "plt.title(\"Years and Beer Prices\")\n",
    "plt.xlabel(\"Years and Prices\")\n",
    "plt.ylabel(\"Anzahl\")"
   ]
  },
  {
   "cell_type": "code",
   "execution_count": 15,
   "id": "3737e4cc-9a37-46a2-9468-15be4248a770",
   "metadata": {},
   "outputs": [],
   "source": [
    "df.to_csv(\"beer_prices_vs_years.csv\")"
   ]
  }
 ],
 "metadata": {
  "kernelspec": {
   "display_name": "Python 3 (ipykernel)",
   "language": "python",
   "name": "python3"
  },
  "language_info": {
   "codemirror_mode": {
    "name": "ipython",
    "version": 3
   },
   "file_extension": ".py",
   "mimetype": "text/x-python",
   "name": "python",
   "nbconvert_exporter": "python",
   "pygments_lexer": "ipython3",
   "version": "3.12.7"
  }
 },
 "nbformat": 4,
 "nbformat_minor": 5
}
